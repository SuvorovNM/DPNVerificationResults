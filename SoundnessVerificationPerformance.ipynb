{
 "cells": [
  {
   "cell_type": "markdown",
   "metadata": {},
   "source": [
    "# Analysis of time performance of the soundness verification algorithm for Data Petri Nets\n",
    "\n",
    "During the generation of DPNs, the following parameters have been taken as an input:\n",
    "\n",
    "- Places - number of places in the DPN.\n",
    "- Transitions - number of transitions in the DPN.\n",
    "- Arcs - number of arcs in the DPN (but actually number of arcs was predetermined by a number of transitions and places but it was possible to configure a number of additional arcs that are added when the backbone of the DPN is constructed)\n",
    "- Variables - number of variables.\n",
    "- Conditions - number of atomic conditions in the DPN. Each transition may have 0, 1 or n conditions. In case of n conditions, they can be combined through conjunction and disjunction (logical connective is chosen randomly, but the result expression must conform to DNF).\n",
    "\n",
    "During the verification LTS for the source DPN is constructed. The LTS has the following properties:\n",
    "- LtsStates - number of states in the LTS for the DPN.\n",
    "- LtsArcs - number of arcs in the LTS for the DPN.\n",
    "- LtsTime - time spent on the LTS construction.\n",
    "\n",
    "On the LTS, we check boundedness of a DPN and obtain the following property:\n",
    "- Boundedness - DPN boundedness.\n",
    "\n",
    "If a DPN is bounded, we proceed to DPN refinement, adding tau-transitions and constructing LTS for the resulting DPN.\n",
    "At the last step of the verification, LTS for the tau-refined DPN is constructed. We call here this DPN as a 'refined constraint graph'. It has the following properties:\n",
    "- CgRefStates - number of states in the refined constraint graph for the DPN.\n",
    "- CgRefArcs - number of arcs in the refined constraint graph for the DPN.\n",
    "- CgRefTime - time spent on the refined constraint graph construction.\n",
    "\n",
    "\n",
    "This structure is analyzed and the following properties are obtained:\n",
    "- DeadTransitions - number of dead transitions in the DPN.\n",
    "- Deadlocks - existence of deadlocks in the DPN.\n",
    "- Soundness - whether the DPN data-aware sound or not.\n",
    "\n",
    "Finally, the program measures the whole time needed for checking a DPN for soundness:\n",
    "\n",
    "- VerificationTime - number of milliseconds needed for the algorithm to terminate with an answer regarding data-aware soundness of the DPN."
   ]
  },
  {
   "cell_type": "code",
   "execution_count": 1,
   "metadata": {},
   "outputs": [],
   "source": [
    "import math\n",
    "import statistics\n",
    "\n",
    "import numpy as np\n",
    "import ast\n",
    "import pandas as pd\n",
    "import matplotlib.pyplot as plt\n",
    "import seaborn as sns\n",
    "from sklearn import datasets, ensemble\n",
    "from sklearn.inspection import permutation_importance\n",
    "from sklearn.linear_model import LinearRegression\n",
    "from sklearn.metrics import mean_squared_error\n",
    "\n",
    "from scipy import stats\n",
    "from scipy.stats import norm\n",
    "\n",
    "import statsmodels.api as sm"
   ]
  },
  {
   "cell_type": "markdown",
   "metadata": {},
   "source": [
    "### Read dataset for generated DPNs and results of their verification"
   ]
  },
  {
   "cell_type": "code",
   "execution_count": 9,
   "metadata": {},
   "outputs": [],
   "source": [
    "df = pd.read_csv('Growth//OptimizedVersion.csv')#results_qeIml_total.csv"
   ]
  },
  {
   "cell_type": "code",
   "execution_count": 10,
   "metadata": {},
   "outputs": [
    {
     "data": {
      "text/html": [
       "<div>\n",
       "<style scoped>\n",
       "    .dataframe tbody tr th:only-of-type {\n",
       "        vertical-align: middle;\n",
       "    }\n",
       "\n",
       "    .dataframe tbody tr th {\n",
       "        vertical-align: top;\n",
       "    }\n",
       "\n",
       "    .dataframe thead th {\n",
       "        text-align: right;\n",
       "    }\n",
       "</style>\n",
       "<table border=\"1\" class=\"dataframe\">\n",
       "  <thead>\n",
       "    <tr style=\"text-align: right;\">\n",
       "      <th></th>\n",
       "      <th>SatisfiesConds</th>\n",
       "      <th>Places</th>\n",
       "      <th>Transitions</th>\n",
       "      <th>Arcs</th>\n",
       "      <th>Variables</th>\n",
       "      <th>Conditions</th>\n",
       "      <th>Boundedness</th>\n",
       "      <th>LtsStates</th>\n",
       "      <th>LtsArcs</th>\n",
       "      <th>CgRefStates</th>\n",
       "      <th>CgRefArcs</th>\n",
       "      <th>DeadTransitions</th>\n",
       "      <th>Deadlocks</th>\n",
       "      <th>Soundness</th>\n",
       "      <th>VerificationTime</th>\n",
       "      <th>LtsTime</th>\n",
       "      <th>CgRefTime</th>\n",
       "      <th>Id</th>\n",
       "    </tr>\n",
       "  </thead>\n",
       "  <tbody>\n",
       "    <tr>\n",
       "      <th>0</th>\n",
       "      <td>True</td>\n",
       "      <td>7</td>\n",
       "      <td>6</td>\n",
       "      <td>12</td>\n",
       "      <td>7</td>\n",
       "      <td>5</td>\n",
       "      <td>True</td>\n",
       "      <td>5</td>\n",
       "      <td>4</td>\n",
       "      <td>0</td>\n",
       "      <td>0</td>\n",
       "      <td>2</td>\n",
       "      <td>True</td>\n",
       "      <td>False</td>\n",
       "      <td>75</td>\n",
       "      <td>75</td>\n",
       "      <td>0</td>\n",
       "      <td>b7818824-b645-4053-a986-955d9629938b</td>\n",
       "    </tr>\n",
       "    <tr>\n",
       "      <th>1</th>\n",
       "      <td>True</td>\n",
       "      <td>15</td>\n",
       "      <td>16</td>\n",
       "      <td>54</td>\n",
       "      <td>8</td>\n",
       "      <td>25</td>\n",
       "      <td>False</td>\n",
       "      <td>30</td>\n",
       "      <td>29</td>\n",
       "      <td>0</td>\n",
       "      <td>0</td>\n",
       "      <td>5</td>\n",
       "      <td>False</td>\n",
       "      <td>False</td>\n",
       "      <td>161</td>\n",
       "      <td>161</td>\n",
       "      <td>0</td>\n",
       "      <td>28ddde75-38b6-4e55-b139-4246e56bd831</td>\n",
       "    </tr>\n",
       "    <tr>\n",
       "      <th>2</th>\n",
       "      <td>True</td>\n",
       "      <td>23</td>\n",
       "      <td>21</td>\n",
       "      <td>46</td>\n",
       "      <td>20</td>\n",
       "      <td>0</td>\n",
       "      <td>True</td>\n",
       "      <td>244</td>\n",
       "      <td>508</td>\n",
       "      <td>0</td>\n",
       "      <td>0</td>\n",
       "      <td>0</td>\n",
       "      <td>False</td>\n",
       "      <td>False</td>\n",
       "      <td>1383</td>\n",
       "      <td>1383</td>\n",
       "      <td>0</td>\n",
       "      <td>260a2836-24cf-4b84-aed1-1971fd945c1c</td>\n",
       "    </tr>\n",
       "    <tr>\n",
       "      <th>3</th>\n",
       "      <td>True</td>\n",
       "      <td>18</td>\n",
       "      <td>8</td>\n",
       "      <td>37</td>\n",
       "      <td>20</td>\n",
       "      <td>1</td>\n",
       "      <td>True</td>\n",
       "      <td>9</td>\n",
       "      <td>8</td>\n",
       "      <td>0</td>\n",
       "      <td>0</td>\n",
       "      <td>0</td>\n",
       "      <td>True</td>\n",
       "      <td>False</td>\n",
       "      <td>67</td>\n",
       "      <td>67</td>\n",
       "      <td>0</td>\n",
       "      <td>b06881cb-73ef-4fff-bf8b-36ba862c25f6</td>\n",
       "    </tr>\n",
       "    <tr>\n",
       "      <th>4</th>\n",
       "      <td>True</td>\n",
       "      <td>4</td>\n",
       "      <td>23</td>\n",
       "      <td>49</td>\n",
       "      <td>2</td>\n",
       "      <td>18</td>\n",
       "      <td>False</td>\n",
       "      <td>41</td>\n",
       "      <td>67</td>\n",
       "      <td>0</td>\n",
       "      <td>0</td>\n",
       "      <td>0</td>\n",
       "      <td>False</td>\n",
       "      <td>False</td>\n",
       "      <td>382</td>\n",
       "      <td>382</td>\n",
       "      <td>0</td>\n",
       "      <td>9ea74b47-3510-4253-9322-4b46555b5944</td>\n",
       "    </tr>\n",
       "    <tr>\n",
       "      <th>...</th>\n",
       "      <td>...</td>\n",
       "      <td>...</td>\n",
       "      <td>...</td>\n",
       "      <td>...</td>\n",
       "      <td>...</td>\n",
       "      <td>...</td>\n",
       "      <td>...</td>\n",
       "      <td>...</td>\n",
       "      <td>...</td>\n",
       "      <td>...</td>\n",
       "      <td>...</td>\n",
       "      <td>...</td>\n",
       "      <td>...</td>\n",
       "      <td>...</td>\n",
       "      <td>...</td>\n",
       "      <td>...</td>\n",
       "      <td>...</td>\n",
       "      <td>...</td>\n",
       "    </tr>\n",
       "    <tr>\n",
       "      <th>498</th>\n",
       "      <td>True</td>\n",
       "      <td>98</td>\n",
       "      <td>78</td>\n",
       "      <td>225</td>\n",
       "      <td>49</td>\n",
       "      <td>74</td>\n",
       "      <td>False</td>\n",
       "      <td>1225</td>\n",
       "      <td>1224</td>\n",
       "      <td>0</td>\n",
       "      <td>0</td>\n",
       "      <td>17</td>\n",
       "      <td>False</td>\n",
       "      <td>False</td>\n",
       "      <td>16304</td>\n",
       "      <td>16304</td>\n",
       "      <td>0</td>\n",
       "      <td>1d5409be-cb70-4b80-9f1b-388883386581</td>\n",
       "    </tr>\n",
       "    <tr>\n",
       "      <th>499</th>\n",
       "      <td>True</td>\n",
       "      <td>95</td>\n",
       "      <td>77</td>\n",
       "      <td>251</td>\n",
       "      <td>92</td>\n",
       "      <td>51</td>\n",
       "      <td>False</td>\n",
       "      <td>314</td>\n",
       "      <td>313</td>\n",
       "      <td>0</td>\n",
       "      <td>0</td>\n",
       "      <td>32</td>\n",
       "      <td>False</td>\n",
       "      <td>False</td>\n",
       "      <td>8018</td>\n",
       "      <td>8018</td>\n",
       "      <td>0</td>\n",
       "      <td>55da389a-a0c5-4d07-920c-2a6de401f87b</td>\n",
       "    </tr>\n",
       "    <tr>\n",
       "      <th>500</th>\n",
       "      <td>True</td>\n",
       "      <td>97</td>\n",
       "      <td>96</td>\n",
       "      <td>265</td>\n",
       "      <td>84</td>\n",
       "      <td>56</td>\n",
       "      <td>False</td>\n",
       "      <td>1434</td>\n",
       "      <td>1433</td>\n",
       "      <td>0</td>\n",
       "      <td>0</td>\n",
       "      <td>41</td>\n",
       "      <td>False</td>\n",
       "      <td>False</td>\n",
       "      <td>31724</td>\n",
       "      <td>31724</td>\n",
       "      <td>0</td>\n",
       "      <td>23ef20a0-d69a-4c2b-ac27-4870bfb6e8b6</td>\n",
       "    </tr>\n",
       "    <tr>\n",
       "      <th>501</th>\n",
       "      <td>True</td>\n",
       "      <td>79</td>\n",
       "      <td>80</td>\n",
       "      <td>193</td>\n",
       "      <td>53</td>\n",
       "      <td>46</td>\n",
       "      <td>False</td>\n",
       "      <td>822</td>\n",
       "      <td>821</td>\n",
       "      <td>0</td>\n",
       "      <td>0</td>\n",
       "      <td>30</td>\n",
       "      <td>False</td>\n",
       "      <td>False</td>\n",
       "      <td>15934</td>\n",
       "      <td>15934</td>\n",
       "      <td>0</td>\n",
       "      <td>841556b3-a48b-4709-b885-cc08086fb7cf</td>\n",
       "    </tr>\n",
       "    <tr>\n",
       "      <th>502</th>\n",
       "      <td>True</td>\n",
       "      <td>87</td>\n",
       "      <td>99</td>\n",
       "      <td>276</td>\n",
       "      <td>31</td>\n",
       "      <td>95</td>\n",
       "      <td>False</td>\n",
       "      <td>1559</td>\n",
       "      <td>1558</td>\n",
       "      <td>0</td>\n",
       "      <td>0</td>\n",
       "      <td>48</td>\n",
       "      <td>False</td>\n",
       "      <td>False</td>\n",
       "      <td>40407</td>\n",
       "      <td>40407</td>\n",
       "      <td>0</td>\n",
       "      <td>730c65b7-fd0b-499c-ab75-1cd6c9d8004d</td>\n",
       "    </tr>\n",
       "  </tbody>\n",
       "</table>\n",
       "<p>503 rows × 18 columns</p>\n",
       "</div>"
      ],
      "text/plain": [
       "     SatisfiesConds  Places  Transitions  Arcs  Variables  Conditions  \\\n",
       "0              True       7            6    12          7           5   \n",
       "1              True      15           16    54          8          25   \n",
       "2              True      23           21    46         20           0   \n",
       "3              True      18            8    37         20           1   \n",
       "4              True       4           23    49          2          18   \n",
       "..              ...     ...          ...   ...        ...         ...   \n",
       "498            True      98           78   225         49          74   \n",
       "499            True      95           77   251         92          51   \n",
       "500            True      97           96   265         84          56   \n",
       "501            True      79           80   193         53          46   \n",
       "502            True      87           99   276         31          95   \n",
       "\n",
       "     Boundedness  LtsStates  LtsArcs  CgRefStates  CgRefArcs  DeadTransitions  \\\n",
       "0           True          5        4            0          0                2   \n",
       "1          False         30       29            0          0                5   \n",
       "2           True        244      508            0          0                0   \n",
       "3           True          9        8            0          0                0   \n",
       "4          False         41       67            0          0                0   \n",
       "..           ...        ...      ...          ...        ...              ...   \n",
       "498        False       1225     1224            0          0               17   \n",
       "499        False        314      313            0          0               32   \n",
       "500        False       1434     1433            0          0               41   \n",
       "501        False        822      821            0          0               30   \n",
       "502        False       1559     1558            0          0               48   \n",
       "\n",
       "     Deadlocks  Soundness  VerificationTime  LtsTime  CgRefTime  \\\n",
       "0         True      False                75       75          0   \n",
       "1        False      False               161      161          0   \n",
       "2        False      False              1383     1383          0   \n",
       "3         True      False                67       67          0   \n",
       "4        False      False               382      382          0   \n",
       "..         ...        ...               ...      ...        ...   \n",
       "498      False      False             16304    16304          0   \n",
       "499      False      False              8018     8018          0   \n",
       "500      False      False             31724    31724          0   \n",
       "501      False      False             15934    15934          0   \n",
       "502      False      False             40407    40407          0   \n",
       "\n",
       "                                       Id  \n",
       "0    b7818824-b645-4053-a986-955d9629938b  \n",
       "1    28ddde75-38b6-4e55-b139-4246e56bd831  \n",
       "2    260a2836-24cf-4b84-aed1-1971fd945c1c  \n",
       "3    b06881cb-73ef-4fff-bf8b-36ba862c25f6  \n",
       "4    9ea74b47-3510-4253-9322-4b46555b5944  \n",
       "..                                    ...  \n",
       "498  1d5409be-cb70-4b80-9f1b-388883386581  \n",
       "499  55da389a-a0c5-4d07-920c-2a6de401f87b  \n",
       "500  23ef20a0-d69a-4c2b-ac27-4870bfb6e8b6  \n",
       "501  841556b3-a48b-4709-b885-cc08086fb7cf  \n",
       "502  730c65b7-fd0b-499c-ab75-1cd6c9d8004d  \n",
       "\n",
       "[503 rows x 18 columns]"
      ]
     },
     "execution_count": 10,
     "metadata": {},
     "output_type": "execute_result"
    }
   ],
   "source": [
    "df"
   ]
  },
  {
   "cell_type": "code",
   "execution_count": 11,
   "metadata": {},
   "outputs": [
    {
     "name": "stdout",
     "output_type": "stream",
     "text": [
      "<class 'pandas.core.frame.DataFrame'>\n",
      "RangeIndex: 503 entries, 0 to 502\n",
      "Data columns (total 18 columns):\n",
      " #   Column            Non-Null Count  Dtype \n",
      "---  ------            --------------  ----- \n",
      " 0   SatisfiesConds    503 non-null    bool  \n",
      " 1   Places            503 non-null    int64 \n",
      " 2   Transitions       503 non-null    int64 \n",
      " 3   Arcs              503 non-null    int64 \n",
      " 4   Variables         503 non-null    int64 \n",
      " 5   Conditions        503 non-null    int64 \n",
      " 6   Boundedness       503 non-null    bool  \n",
      " 7   LtsStates         503 non-null    int64 \n",
      " 8   LtsArcs           503 non-null    int64 \n",
      " 9   CgRefStates       503 non-null    int64 \n",
      " 10  CgRefArcs         503 non-null    int64 \n",
      " 11  DeadTransitions   503 non-null    int64 \n",
      " 12  Deadlocks         503 non-null    bool  \n",
      " 13  Soundness         503 non-null    bool  \n",
      " 14  VerificationTime  503 non-null    int64 \n",
      " 15  LtsTime           503 non-null    int64 \n",
      " 16  CgRefTime         503 non-null    int64 \n",
      " 17  Id                503 non-null    object\n",
      "dtypes: bool(4), int64(13), object(1)\n",
      "memory usage: 57.1+ KB\n"
     ]
    }
   ],
   "source": [
    "df.info()"
   ]
  },
  {
   "cell_type": "markdown",
   "metadata": {},
   "source": [
    "### Comparing value of each input parameter (PlacesCount, TransitionsCount, ArcsCount, VarsCount and ConditionsCount) with Milliseconds needed for the algorithm to terminate"
   ]
  },
  {
   "cell_type": "markdown",
   "metadata": {},
   "source": [
    "#### Number of places"
   ]
  },
  {
   "cell_type": "code",
   "execution_count": 12,
   "metadata": {},
   "outputs": [
    {
     "data": {
      "text/plain": [
       "<matplotlib.legend.Legend at 0x14806eedfd0>"
      ]
     },
     "execution_count": 12,
     "metadata": {},
     "output_type": "execute_result"
    },
    {
     "data": {
      "image/png": "[encoded data removed]",
      "text/plain": [
       "<Figure size 432x288 with 1 Axes>"
      ]
     },
     "metadata": {
      "needs_background": "light"
     },
     "output_type": "display_data"
    }
   ],
   "source": [
    "ms_per_places = df.groupby('Places').mean()['VerificationTime']/1000\n",
    "plt.plot(ms_per_places, color=\"blue\",label=\"Original Seconds per PlacesNumber\") \n",
    "rolling_mean = ms_per_places.rolling(5).mean() \n",
    "plt.plot(rolling_mean, color=\"red\", label=\"Rolling Mean Seconds per PlacesNumber\") \n",
    "plt.legend(loc=\"best\")"
   ]
  },
  {
   "cell_type": "markdown",
   "metadata": {},
   "source": [
    "#### Number of transitions"
   ]
  },
  {
   "cell_type": "code",
   "execution_count": 13,
   "metadata": {},
   "outputs": [
    {
     "data": {
      "text/plain": [
       "<matplotlib.legend.Legend at 0x14806f021c0>"
      ]
     },
     "execution_count": 13,
     "metadata": {},
     "output_type": "execute_result"
    },
    {
     "data": {
      "image/png": "[encoded data removed]",
      "text/plain": [
       "<Figure size 432x288 with 1 Axes>"
      ]
     },
     "metadata": {
      "needs_background": "light"
     },
     "output_type": "display_data"
    }
   ],
   "source": [
    "ms_per_transitions = df.groupby('Transitions').mean()['VerificationTime']/1000\n",
    "plt.plot(ms_per_transitions, color=\"blue\",label=\"Original Seconds per TransitionsNumber\") \n",
    "rolling_mean = ms_per_transitions.rolling(5).mean() \n",
    "plt.plot(rolling_mean, color=\"red\", label=\"Rolling Mean Seconds per TransitionsNumber\") \n",
    "plt.legend(loc=\"upper left\")"
   ]
  },
  {
   "cell_type": "markdown",
   "metadata": {},
   "source": [
    "#### Number of arcs"
   ]
  },
  {
   "cell_type": "code",
   "execution_count": 14,
   "metadata": {},
   "outputs": [
    {
     "data": {
      "text/plain": [
       "<matplotlib.legend.Legend at 0x14803d59400>"
      ]
     },
     "execution_count": 14,
     "metadata": {},
     "output_type": "execute_result"
    },
    {
     "data": {
      "image/png": "[encoded data removed]",
      "text/plain": [
       "<Figure size 432x288 with 1 Axes>"
      ]
     },
     "metadata": {
      "needs_background": "light"
     },
     "output_type": "display_data"
    }
   ],
   "source": [
    "ms_per_arcs = df.groupby('Arcs').mean()['VerificationTime']/1000\n",
    "plt.plot(ms_per_arcs, color=\"blue\",label=\"Original Seconds per ArcsNumber\") \n",
    "rolling_mean = ms_per_arcs.rolling(5).mean() \n",
    "plt.plot(rolling_mean, color=\"red\", label=\"Rolling Mean Seconds per ArcsNumber\") \n",
    "plt.legend(loc=\"upper left\")"
   ]
  },
  {
   "cell_type": "markdown",
   "metadata": {},
   "source": [
    "#### Number of variables"
   ]
  },
  {
   "cell_type": "code",
   "execution_count": 15,
   "metadata": {},
   "outputs": [
    {
     "data": {
      "text/plain": [
       "<matplotlib.legend.Legend at 0x148070051f0>"
      ]
     },
     "execution_count": 15,
     "metadata": {},
     "output_type": "execute_result"
    },
    {
     "data": {
      "image/png": "[encoded data removed]",
      "text/plain": [
       "<Figure size 432x288 with 1 Axes>"
      ]
     },
     "metadata": {
      "needs_background": "light"
     },
     "output_type": "display_data"
    }
   ],
   "source": [
    "ms_per_vars = df.groupby('Variables').mean()['VerificationTime']/1000\n",
    "plt.plot(ms_per_vars, color=\"blue\",label=\"Original Seconds per VariablesNumber\") \n",
    "rolling_mean = ms_per_vars.rolling(5).mean() \n",
    "plt.plot(rolling_mean, color=\"red\", label=\"Rolling Mean Seconds per VariablesNumber\") \n",
    "plt.legend(loc=\"best\")"
   ]
  },
  {
   "cell_type": "markdown",
   "metadata": {},
   "source": [
    "#### Number of conditions"
   ]
  },
  {
   "cell_type": "code",
   "execution_count": 16,
   "metadata": {},
   "outputs": [
    {
     "data": {
      "text/plain": [
       "<matplotlib.legend.Legend at 0x1480706a220>"
      ]
     },
     "execution_count": 16,
     "metadata": {},
     "output_type": "execute_result"
    },
    {
     "data": {
      "image/png": "[encoded data removed]",
      "text/plain": [
       "<Figure size 432x288 with 1 Axes>"
      ]
     },
     "metadata": {
      "needs_background": "light"
     },
     "output_type": "display_data"
    }
   ],
   "source": [
    "ms_per_conditions = df.groupby('Conditions').mean()['VerificationTime']/1000\n",
    "plt.plot(ms_per_conditions, color=\"blue\",label=\"Original Seconds per ConditionsNumber\") \n",
    "rolling_mean = ms_per_conditions.rolling(5).mean() \n",
    "plt.plot(rolling_mean, color=\"red\", label=\"Rolling Mean Seconds per ConditionsNumber\") \n",
    "plt.legend(loc=\"best\")"
   ]
  },
  {
   "cell_type": "markdown",
   "metadata": {},
   "source": [
    "### Model for input parameters\n",
    "Here we cannot straightforwardly use a linear regression model since milliseconds grow exponentially with the increase of most input parameters. Thus, we can take log from milliseconds and use the linear regression model with the dependent variable log(milliseconds).\n",
    "\n",
    "(Based on correlation matrix, we can conclude that placesCount and transitionsCount highly correlate with each other; thus, we can choose one of them to represent the size of the model. Let us choose PlacesCount)"
   ]
  },
  {
   "cell_type": "code",
   "execution_count": 24,
   "metadata": {},
   "outputs": [],
   "source": [
    "df['log_milliseconds'] = df.apply(lambda x: math.log(x['VerificationTime']+1), axis = 1)"
   ]
  },
  {
   "cell_type": "code",
   "execution_count": 25,
   "metadata": {},
   "outputs": [],
   "source": [
    "x_mult2 = df[['Places', 'Transitions',  'Variables', 'Conditions']]#,'Arcs', \n",
    "y2 = df['log_milliseconds']\n",
    "x_mult_constant2 = sm.add_constant(x_mult2)"
   ]
  },
  {
   "cell_type": "code",
   "execution_count": 26,
   "metadata": {},
   "outputs": [
    {
     "name": "stdout",
     "output_type": "stream",
     "text": [
      "                            OLS Regression Results                            \n",
      "==============================================================================\n",
      "Dep. Variable:       log_milliseconds   R-squared:                       0.742\n",
      "Model:                            OLS   Adj. R-squared:                  0.740\n",
      "Method:                 Least Squares   F-statistic:                     357.4\n",
      "Date:                Wed, 15 Feb 2023   Prob (F-statistic):          8.08e-145\n",
      "Time:                        17:55:48   Log-Likelihood:                -742.06\n",
      "No. Observations:                 503   AIC:                             1494.\n",
      "Df Residuals:                     498   BIC:                             1515.\n",
      "Df Model:                           4                                         \n",
      "Covariance Type:            nonrobust                                         \n",
      "===============================================================================\n",
      "                  coef    std err          t      P>|t|      [0.025      0.975]\n",
      "-------------------------------------------------------------------------------\n",
      "const           4.2401      0.099     42.932      0.000       4.046       4.434\n",
      "Places          0.0224      0.005      4.469      0.000       0.013       0.032\n",
      "Transitions     0.0211      0.005      4.253      0.000       0.011       0.031\n",
      "Variables       0.0086      0.003      3.097      0.002       0.003       0.014\n",
      "Conditions      0.0208      0.003      7.551      0.000       0.015       0.026\n",
      "==============================================================================\n",
      "Omnibus:                      215.854   Durbin-Watson:                   1.999\n",
      "Prob(Omnibus):                  0.000   Jarque-Bera (JB):             1567.260\n",
      "Skew:                           1.706   Prob(JB):                         0.00\n",
      "Kurtosis:                      10.946   Cond. No.                         205.\n",
      "==============================================================================\n",
      "\n",
      "Notes:\n",
      "[1] Standard Errors assume that the covariance matrix of the errors is correctly specified.\n"
     ]
    }
   ],
   "source": [
    "model2 = sm.OLS(y2, x_mult_constant2.astype(float)).fit()\n",
    "print(model2.summary())"
   ]
  },
  {
   "cell_type": "code",
   "execution_count": 27,
   "metadata": {},
   "outputs": [
    {
     "data": {
      "text/html": [
       "<div>\n",
       "<style scoped>\n",
       "    .dataframe tbody tr th:only-of-type {\n",
       "        vertical-align: middle;\n",
       "    }\n",
       "\n",
       "    .dataframe tbody tr th {\n",
       "        vertical-align: top;\n",
       "    }\n",
       "\n",
       "    .dataframe thead th {\n",
       "        text-align: right;\n",
       "    }\n",
       "</style>\n",
       "<table border=\"1\" class=\"dataframe\">\n",
       "  <thead>\n",
       "    <tr style=\"text-align: right;\">\n",
       "      <th></th>\n",
       "      <th>Coefs</th>\n",
       "    </tr>\n",
       "    <tr>\n",
       "      <th>Features</th>\n",
       "      <th></th>\n",
       "    </tr>\n",
       "  </thead>\n",
       "  <tbody>\n",
       "    <tr>\n",
       "      <th>Places</th>\n",
       "      <td>2.263941</td>\n",
       "    </tr>\n",
       "    <tr>\n",
       "      <th>Transitions</th>\n",
       "      <td>2.135431</td>\n",
       "    </tr>\n",
       "    <tr>\n",
       "      <th>Variables</th>\n",
       "      <td>0.864111</td>\n",
       "    </tr>\n",
       "    <tr>\n",
       "      <th>Conditions</th>\n",
       "      <td>2.105594</td>\n",
       "    </tr>\n",
       "  </tbody>\n",
       "</table>\n",
       "</div>"
      ],
      "text/plain": [
       "                Coefs\n",
       "Features             \n",
       "Places       2.263941\n",
       "Transitions  2.135431\n",
       "Variables    0.864111\n",
       "Conditions   2.105594"
      ]
     },
     "execution_count": 27,
     "metadata": {},
     "output_type": "execute_result"
    }
   ],
   "source": [
    "coefs = pd.DataFrame()\n",
    "coefs['Coefs'] = model2.params[1:]\n",
    "coefs['Coefs'] = (np.exp(coefs['Coefs']) - 1) * 100\n",
    "coefs['Features'] = model2.params.index[1:]\n",
    "coefs.set_index('Features', inplace=True)\n",
    "coefs"
   ]
  },
  {
   "cell_type": "markdown",
   "metadata": {},
   "source": [
    "#### Trying to use linear model against net_size = |Places| * |Transitions|"
   ]
  },
  {
   "cell_type": "code",
   "execution_count": 28,
   "metadata": {},
   "outputs": [],
   "source": [
    "df['net_size'] = df.Places * df.Transitions"
   ]
  },
  {
   "cell_type": "code",
   "execution_count": 29,
   "metadata": {},
   "outputs": [],
   "source": [
    "x_mult2 = df[['net_size', 'Arcs', 'Variables', 'Conditions']]\n",
    "y2 = df['log_milliseconds']\n",
    "x_mult_constant2 = sm.add_constant(x_mult2)"
   ]
  },
  {
   "cell_type": "code",
   "execution_count": 30,
   "metadata": {},
   "outputs": [
    {
     "name": "stdout",
     "output_type": "stream",
     "text": [
      "                            OLS Regression Results                            \n",
      "==============================================================================\n",
      "Dep. Variable:       log_milliseconds   R-squared:                       0.733\n",
      "Model:                            OLS   Adj. R-squared:                  0.731\n",
      "Method:                 Least Squares   F-statistic:                     342.2\n",
      "Date:                Wed, 15 Feb 2023   Prob (F-statistic):          2.38e-141\n",
      "Time:                        17:56:12   Log-Likelihood:                -750.14\n",
      "No. Observations:                 503   AIC:                             1510.\n",
      "Df Residuals:                     498   BIC:                             1531.\n",
      "Df Model:                           4                                         \n",
      "Covariance Type:            nonrobust                                         \n",
      "==============================================================================\n",
      "                 coef    std err          t      P>|t|      [0.025      0.975]\n",
      "------------------------------------------------------------------------------\n",
      "const          4.2012      0.140     30.115      0.000       3.927       4.475\n",
      "net_size    1.568e-05   5.13e-05      0.306      0.760   -8.51e-05       0.000\n",
      "Arcs           0.0150      0.002      7.341      0.000       0.011       0.019\n",
      "Variables      0.0105      0.003      3.771      0.000       0.005       0.016\n",
      "Conditions     0.0211      0.003      7.450      0.000       0.016       0.027\n",
      "==============================================================================\n",
      "Omnibus:                      205.991   Durbin-Watson:                   2.046\n",
      "Prob(Omnibus):                  0.000   Jarque-Bera (JB):             1401.165\n",
      "Skew:                           1.635   Prob(JB):                    5.51e-305\n",
      "Kurtosis:                      10.495   Cond. No.                     1.29e+04\n",
      "==============================================================================\n",
      "\n",
      "Notes:\n",
      "[1] Standard Errors assume that the covariance matrix of the errors is correctly specified.\n",
      "[2] The condition number is large, 1.29e+04. This might indicate that there are\n",
      "strong multicollinearity or other numerical problems.\n"
     ]
    }
   ],
   "source": [
    "model2 = sm.OLS(y2, x_mult_constant2.astype(float)).fit()\n",
    "print(model2.summary())"
   ]
  },
  {
   "cell_type": "code",
   "execution_count": 31,
   "metadata": {},
   "outputs": [
    {
     "data": {
      "text/html": [
       "<div>\n",
       "<style scoped>\n",
       "    .dataframe tbody tr th:only-of-type {\n",
       "        vertical-align: middle;\n",
       "    }\n",
       "\n",
       "    .dataframe tbody tr th {\n",
       "        vertical-align: top;\n",
       "    }\n",
       "\n",
       "    .dataframe thead th {\n",
       "        text-align: right;\n",
       "    }\n",
       "</style>\n",
       "<table border=\"1\" class=\"dataframe\">\n",
       "  <thead>\n",
       "    <tr style=\"text-align: right;\">\n",
       "      <th></th>\n",
       "      <th>Coefs</th>\n",
       "    </tr>\n",
       "    <tr>\n",
       "      <th>Features</th>\n",
       "      <th></th>\n",
       "    </tr>\n",
       "  </thead>\n",
       "  <tbody>\n",
       "    <tr>\n",
       "      <th>net_size</th>\n",
       "      <td>0.001568</td>\n",
       "    </tr>\n",
       "    <tr>\n",
       "      <th>Arcs</th>\n",
       "      <td>1.515524</td>\n",
       "    </tr>\n",
       "    <tr>\n",
       "      <th>Variables</th>\n",
       "      <td>1.059527</td>\n",
       "    </tr>\n",
       "    <tr>\n",
       "      <th>Conditions</th>\n",
       "      <td>2.132045</td>\n",
       "    </tr>\n",
       "  </tbody>\n",
       "</table>\n",
       "</div>"
      ],
      "text/plain": [
       "               Coefs\n",
       "Features            \n",
       "net_size    0.001568\n",
       "Arcs        1.515524\n",
       "Variables   1.059527\n",
       "Conditions  2.132045"
      ]
     },
     "execution_count": 31,
     "metadata": {},
     "output_type": "execute_result"
    }
   ],
   "source": [
    "coefs = pd.DataFrame()\n",
    "coefs['Coefs'] = model2.params[1:]\n",
    "coefs['Coefs'] = (np.exp(coefs['Coefs']) - 1) * 100\n",
    "coefs['Features'] = model2.params.index[1:]\n",
    "coefs.set_index('Features', inplace=True)\n",
    "coefs"
   ]
  },
  {
   "cell_type": "markdown",
   "metadata": {},
   "source": [
    "## Protocol 2\n",
    "\n",
    "### Bounded unsound nets verification"
   ]
  },
  {
   "cell_type": "code",
   "execution_count": 2,
   "metadata": {},
   "outputs": [],
   "source": [
    "df_base = pd.read_csv('Comparison//BaseVersion.csv')\n",
    "df_optimized = pd.read_csv('Comparison//OptimizedVersion.csv')"
   ]
  },
  {
   "cell_type": "code",
   "execution_count": 3,
   "metadata": {},
   "outputs": [],
   "source": [
    "timing_base = df_base.groupby('Transitions').mean()['VerificationTime']\n",
    "timing_optimized = df_optimized.groupby('Transitions').mean()['VerificationTime']"
   ]
  },
  {
   "cell_type": "code",
   "execution_count": 5,
   "metadata": {},
   "outputs": [
    {
     "data": {
      "text/plain": [
       "<matplotlib.legend.Legend at 0x1e3cf1be2b0>"
      ]
     },
     "execution_count": 5,
     "metadata": {},
     "output_type": "execute_result"
    },
    {
     "data": {
      "image/png": "[encoded data removed]",
      "text/plain": [
       "<Figure size 432x288 with 1 Axes>"
      ]
     },
     "metadata": {
      "needs_background": "light"
     },
     "output_type": "display_data"
    }
   ],
   "source": [
    "plt.plot(timing_base.rolling(3).mean()/1000 , color=\"blue\", label=\"Algorithm 5\") \n",
    "plt.plot(timing_optimized.rolling(3).mean()/1000 , color=\"green\", label=\"Algorithm 6\")\n",
    "plt.legend(loc=\"best\")"
   ]
  },
  {
   "cell_type": "markdown",
   "metadata": {},
   "source": [
    "### Sound nets verification"
   ]
  },
  {
   "cell_type": "code",
   "execution_count": 7,
   "metadata": {},
   "outputs": [],
   "source": [
    "df_base = pd.read_csv('Comparison//Sound//BaseVersion.csv')\n",
    "df_optimized = pd.read_csv('Comparison//Sound//OptimizedVersion.csv')"
   ]
  },
  {
   "cell_type": "code",
   "execution_count": 7,
   "metadata": {},
   "outputs": [],
   "source": [
    "timing_base = df_base.groupby('Transitions').mean()['VerificationTime']\n",
    "timing_optimized = df_optimized.groupby('Transitions').mean()['VerificationTime']"
   ]
  },
  {
   "cell_type": "code",
   "execution_count": 8,
   "metadata": {},
   "outputs": [
    {
     "data": {
      "text/plain": [
       "<matplotlib.legend.Legend at 0x1e3aae87a30>"
      ]
     },
     "execution_count": 8,
     "metadata": {},
     "output_type": "execute_result"
    },
    {
     "data": {
      "image/png": "[encoded data removed]",
      "text/plain": [
       "<Figure size 432x288 with 1 Axes>"
      ]
     },
     "metadata": {
      "needs_background": "light"
     },
     "output_type": "display_data"
    }
   ],
   "source": [
    "plt.plot(timing_base.rolling(3).mean()/1000 , color=\"blue\", label=\"Algorithm 5\") \n",
    "plt.plot(timing_optimized.rolling(3).mean()/1000 , color=\"green\", label=\"Algorithm 6\")\n",
    "#plt.plot(df/1000, color=\"blue\",linestyle='dashed',  label=\"Straightforward Version 1\") \n",
    "\n",
    "plt.legend(loc=\"best\")"
   ]
  },
  {
   "cell_type": "code",
   "execution_count": null,
   "metadata": {},
   "outputs": [],
   "source": []
  }
 ],
 "metadata": {
  "kernelspec": {
   "display_name": "Python 3",
   "language": "python",
   "name": "python3"
  },
  "language_info": {
   "codemirror_mode": {
    "name": "ipython",
    "version": 3
   },
   "file_extension": ".py",
   "mimetype": "text/x-python",
   "name": "python",
   "nbconvert_exporter": "python",
   "pygments_lexer": "ipython3",
   "version": "3.8.1"
  }
 },
 "nbformat": 4,
 "nbformat_minor": 4
}
